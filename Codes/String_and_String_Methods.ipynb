{
  "nbformat": 4,
  "nbformat_minor": 0,
  "metadata": {
    "colab": {
      "provenance": []
    },
    "kernelspec": {
      "name": "python3",
      "display_name": "Python 3"
    },
    "language_info": {
      "name": "python"
    }
  },
  "cells": [
    {
      "cell_type": "markdown",
      "source": [
        "# String \n",
        "collection of characters\n",
        "\n",
        "## Slicing of String\n"
      ],
      "metadata": {
        "id": "jhS_1dXN3WSI"
      }
    },
    {
      "cell_type": "code",
      "execution_count": null,
      "metadata": {
        "id": "lEpjqTo22xQd"
      },
      "outputs": [],
      "source": [
        "name = \"bilal\"\n",
        "print(name)\n",
        "\n",
        "# to calculate the size of string\n",
        "\n",
        "len1 = len(name)\n",
        "print(\"size of \",name,\"is \",len1)\n",
        "\n",
        "\n",
        "# Slicing\n",
        "\n",
        "print(name[:]) #to print whole String\n",
        "print(name[0:4]) # including 0 and excluding 4\n",
        "print(name[:4]) # start with index 0 and excluding 4\n",
        "print(name[0:]) # start with index 0 and excluding lenght of string len(name)\n",
        "\n",
        "# Negative Indexing\n",
        "print(\"Negative Slicing\")\n",
        "print(name[0:-1]) # start with 0 and exclude [ len(name) - 1 = 4 ] -->\"bila\"\n",
        "print(name[-1:3]) # its not working because of reverse order\n",
        "print(name[-4:-2])\n",
        "\n",
        "\n",
        "# Quick Quiz\n",
        "\n",
        "\n",
        "harry = \"harry\"\n",
        "print(harry[-4:-2]) # 5 - 4 = 1 , 5 - 2 = 3 \n",
        "# output : ar\n",
        "\n"
      ]
    },
    {
      "cell_type": "markdown",
      "source": [
        "## String Methods\n",
        "\n",
        "### text Formating\n",
        "  1. upper()\n",
        "  2. lower()\n",
        "  3. capitalize()\n",
        "  4. title()\n",
        "  5. center(no of character)\n",
        "  6. split()\n",
        "  7. strip()\n",
        "  8. rstrip()\n",
        "  9. join() \n",
        "\n",
        "\n",
        "\n",
        "[Refernce String Method](https://replit.com/@muhammadbilal91/13-Day13-String-Methods)\n",
        "\n",
        "[Refernce String Method W3Schools](https://www.w3schools.com/python/python_ref_string.asp)"
      ],
      "metadata": {
        "id": "6duyBBHq6N6i"
      }
    },
    {
      "cell_type": "code",
      "source": [
        "# String are Immutable\n",
        "\n",
        "a = \"Bilal\"\n",
        "\n",
        "# existing ko change nhi kr rha us ki copy bna kr changes kr rha he\n",
        "print(\"Upper\",a.upper())\n",
        "print(\"Lower\",a.lower())\n",
        "a = \"biLaL\"\n",
        "print(\"Capitalize\",a.capitalize())\n",
        "\n",
        "\n",
        "\n",
        "a = \"!bilal!!!!!!\"\n",
        "print(\"Rstrip\",a.rstrip('!')) # remove trailing character at string\n",
        "\n",
        "\n",
        "txt = \"banana\"\n",
        "\n",
        "x = txt.center(20) # add white space to make text center\n",
        "\n",
        "print(x)\n",
        "\n",
        "\n",
        "str2 = \" Silver Spoon          \"\n",
        "print(str2.strip()) # remove white space\n",
        "\n",
        "\n",
        "\n",
        "str2 = \"Silver Spoon\"\n",
        "print(str2.replace(\"Sp\", \"M\")) #The replace() method replaces all occurences of a string with another string\n",
        "\n",
        "str2 = \"Silver Spoon\"\n",
        "print(str2.split(\" \")) # breaks/ Splits the string at the whitespace \" \".\n",
        "\n",
        "\n",
        "str2 = \"Abracadabra\"\n",
        "countStr = str2.count(\"a\") # count specific value\n",
        "print(countStr)\n",
        "\n",
        "\n",
        "\n",
        "# Strings are immutable\n",
        "a = \"!!!Harry!! !!!!!!!!! Harry\"\n",
        "print(len(a))\n",
        "print(a)\n",
        "print(a.upper())\n",
        "print(a.lower())\n",
        "print(a.rstrip(\"!\"))\n",
        "print(a.replace(\"Harry\", \"John\"))\n",
        "print(a.split(\" \"))\n",
        "blogHeading = \"introduction tO jS\"\n",
        "print(blogHeading.capitalize())\n",
        "\n",
        "str1 = \"Welcome to the Console!!!\"\n",
        "print(len(str1))\n",
        "print(len(str1.center(50)))\n",
        "print(a.count(\"Harry\"))\n",
        "\n",
        "str1 = \"Welcome to the Console !!!\"\n",
        "print(str1.endswith(\"!!!\"))\n",
        "\n",
        "str1 = \"Welcome to the Console !!!\"\n",
        "print(str1.endswith(\"to\", 4, 10))\n",
        "\n",
        "str1 = \"He's name is Dan. He is an honest man.\"\n",
        "print(str1.find(\"ishh\"))\n",
        "# print(str1.index(\"ishh\"))\n",
        "\n",
        "str1 = \"WelcomeToTheConsole\"\n",
        "print(str1.isalnum())\n",
        "str1 = \"Welcome\"\n",
        "print(str1.isalpha())\n",
        "\n",
        "str1 = \"hello world\"\n",
        "print(str1.islower())\n",
        "\n",
        "str1 = \"We wish you a Merry Christmas\\n\"\n",
        "print(str1.isprintable())\n",
        "str1 = \"         \"       #using Spacebar\n",
        "print(str1.isspace())\n",
        "str2 = \"  \"       #using Tab\n",
        "print(str2.isspace())\n",
        "\n",
        "str1 = \"World Health Organization\" \n",
        "print(str1.istitle())\n",
        "\n",
        "str2 = \"To kill a Mocking bird\"\n",
        "print(str2.istitle())\n",
        "\n",
        "str1 = \"Python is a Interpreted Language\" \n",
        "print(str1.startswith(\"Python\"))\n",
        "\n",
        "str1 = \"Python is a Interpreted Language\" \n",
        "print(str1.swapcase())\n",
        "\n",
        "str1 = \"His name is Dan. Dan is an honest man.\"\n",
        "print(str1.title())\n"
      ],
      "metadata": {
        "colab": {
          "base_uri": "https://localhost:8080/"
        },
        "id": "Di1pVB5u66yq",
        "outputId": "c60b0399-bc38-47c0-a034-0bf2798d611c"
      },
      "execution_count": 34,
      "outputs": [
        {
          "output_type": "stream",
          "name": "stdout",
          "text": [
            "Upper BILAL\n",
            "Lower bilal\n",
            "Capitalize Bilal\n",
            "Rstrip !bilal\n",
            "       banana       \n",
            "Silver Spoon\n",
            "Silver Moon\n",
            "['Silver', 'Spoon']\n",
            "4\n",
            "26\n",
            "!!!Harry!! !!!!!!!!! Harry\n",
            "!!!HARRY!! !!!!!!!!! HARRY\n",
            "!!!harry!! !!!!!!!!! harry\n",
            "!!!Harry!! !!!!!!!!! Harry\n",
            "!!!John!! !!!!!!!!! John\n",
            "['!!!Harry!!', '!!!!!!!!!', 'Harry']\n",
            "Introduction to js\n",
            "25\n",
            "50\n",
            "2\n",
            "True\n",
            "True\n",
            "-1\n",
            "True\n",
            "True\n",
            "True\n",
            "False\n",
            "True\n",
            "True\n",
            "True\n",
            "False\n",
            "True\n",
            "pYTHON IS A iNTERPRETED lANGUAGE\n",
            "His Name Is Dan. Dan Is An Honest Man.\n"
          ]
        }
      ]
    },
    {
      "cell_type": "markdown",
      "source": [
        "Return Boolean\n",
        "\n"
      ],
      "metadata": {
        "id": "HOoVxNR1Gblo"
      }
    }
  ]
}