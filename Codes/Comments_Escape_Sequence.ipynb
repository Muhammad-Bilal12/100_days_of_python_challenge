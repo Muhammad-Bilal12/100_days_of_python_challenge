{
  "nbformat": 4,
  "nbformat_minor": 0,
  "metadata": {
    "colab": {
      "provenance": []
    },
    "kernelspec": {
      "name": "python3",
      "display_name": "Python 3"
    },
    "language_info": {
      "name": "python"
    }
  },
  "cells": [
    {
      "cell_type": "markdown",
      "source": [
        "# Comments\n",
        "\n",
        "In python, we write some docs to understand what we do, which is not execute by compiler\n",
        "\n",
        "\n",
        "#### For Single-Line-Comment\n",
        "use \"#\" sign to mark comment in python\n",
        "\n",
        "#### For Multi-Line-Comment\n",
        "used three times inverted commas for multi line comment\n",
        "\"\"\"multi \n",
        "line comment\"\"\""
      ],
      "metadata": {
        "id": "4Bi8icmS8lSW"
      }
    },
    {
      "cell_type": "code",
      "source": [
        "# Comments\n",
        "\n",
        "print(\"Hello World!\")\n",
        "\n",
        "\"\"\" To Write docs we used multi line comments \"\"\" \n",
        "print(\"Python is awesome!\")\n"
      ],
      "metadata": {
        "colab": {
          "base_uri": "https://localhost:8080/"
        },
        "id": "KuON56g-8MVP",
        "outputId": "74ce5975-1988-417f-fdf5-02593d89615d"
      },
      "execution_count": 2,
      "outputs": [
        {
          "output_type": "stream",
          "name": "stdout",
          "text": [
            "Hello World!\n",
            "Python is awesome!\n"
          ]
        }
      ]
    },
    {
      "cell_type": "markdown",
      "source": [
        "\n",
        "\n",
        "> # Escape Sequence\n",
        "\n",
        "An escape sequence contains a backslash (\\) symbol followed by one of the escape sequence characters or an octal or hexadecimal number. \n",
        "A hexadecimal escape sequence contains an x followed by one or more hexadecimal digits (0-9, A-F, a-f). An octal escape sequence uses up to three octal digits (0-7).\n",
        "\n",
        "Other escape characters used in Python:\n",
        "\n",
        "Code\tResult\tTry it\n",
        "\\'\tSingle Quote\t\n",
        "\\\\\tBackslash\t\n",
        "\\n\tNew Line\t\n",
        "\\r\tCarriage Return\t\n",
        "\\t\tTab\t\n",
        "\\b\tBackspace\t\n",
        "\\f\tForm Feed\t\n",
        "\\ooo\tOctal value\t\n",
        "\\xhh\tHex value"
      ],
      "metadata": {
        "id": "zuvfNnpy9KRf"
      }
    },
    {
      "cell_type": "code",
      "source": [
        "print(\"to prin new line we used\\nlike this\")\n",
        "print(\"it's a special character sequence for print \\\"\\\" double inverted commas \")"
      ],
      "metadata": {
        "colab": {
          "base_uri": "https://localhost:8080/"
        },
        "id": "BD0eSC199JQN",
        "outputId": "36d0f5ed-818e-4e3d-d3d3-83d8b7cf4b9b"
      },
      "execution_count": 4,
      "outputs": [
        {
          "output_type": "stream",
          "name": "stdout",
          "text": [
            "to prin new line we used\n",
            "like this\n",
            "it's a special character sequence for print \"\" double inverted commas \n"
          ]
        }
      ]
    },
    {
      "cell_type": "markdown",
      "source": [
        "# Other Parameter Print Statement\n",
        "\n",
        "The syntax of a print statement looks something like this:\n",
        "print(object(s), sep=separator, end=end, file=file, flush=flush)\n",
        "\n",
        "- object(s): Any object, and as many as you like. Will be converted to string - before printed\n",
        "- sep='separator': Specify how to separate the objects, if there is more than one. Default is ' '\n",
        "- end='end': Specify what to print at the end. Default is '\\n' (line feed)\n",
        "- file: An object with a write method. Default is sys.stdout"
      ],
      "metadata": {
        "id": "-6Tt7VgW-1YG"
      }
    },
    {
      "cell_type": "code",
      "source": [
        "print(\"Hello\",234,\"World\",sep=\"sep\") # this override the separotor"
      ],
      "metadata": {
        "colab": {
          "base_uri": "https://localhost:8080/"
        },
        "id": "gWyYjNbA_rU7",
        "outputId": "65451ee5-fa59-44dd-a8a9-f1deb4552fc9"
      },
      "execution_count": 6,
      "outputs": [
        {
          "output_type": "stream",
          "name": "stdout",
          "text": [
            "Hellosep234sepWorld\n"
          ]
        }
      ]
    }
  ]
}