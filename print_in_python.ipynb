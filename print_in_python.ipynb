{
  "nbformat": 4,
  "nbformat_minor": 0,
  "metadata": {
    "colab": {
      "provenance": []
    },
    "kernelspec": {
      "name": "python3",
      "display_name": "Python 3"
    },
    "language_info": {
      "name": "python"
    }
  },
  "cells": [
    {
      "cell_type": "markdown",
      "source": [
        "# First Program in Python\n",
        "\n",
        "print(\"Write your text hext\")\n",
        "\n",
        "String -> Colection of characters,symbols and numeric values enclosed in inverted commas"
      ],
      "metadata": {
        "id": "5C8mUOiWo8Ke"
      }
    },
    {
      "cell_type": "code",
      "execution_count": 5,
      "metadata": {
        "colab": {
          "base_uri": "https://localhost:8080/"
        },
        "id": "T4ITvjf1oZRV",
        "outputId": "8bc57ce9-367c-4bff-9a7e-a128ecdcb1e9"
      },
      "outputs": [
        {
          "output_type": "stream",
          "name": "stdout",
          "text": [
            "Hello, World!\n",
            "12345\n",
            "65\n",
            "38\n"
          ]
        }
      ],
      "source": [
        "# this code throw an error because text always enclosed in inverted commas\n",
        "# print(hello World) \n",
        "\n",
        "# like this\n",
        "print(\"Hello, World!\")\n",
        "\n",
        "# We can also print number like \n",
        "print(12345)\n",
        "\n",
        "# perform arithmetic calculation\n",
        "\n",
        "print(55+10) # 65\n",
        "print(48-10) #38"
      ]
    },
    {
      "cell_type": "markdown",
      "source": [
        "# Quick Quiz\n",
        "\n",
        "write your favourite poem in console.\n",
        "print(\"__ YOUR POEM HERE __ \")\n"
      ],
      "metadata": {
        "id": "Eo9m3Y_aseYm"
      }
    },
    {
      "cell_type": "code",
      "source": [
        "print(\"THE VOICE OF GOD\")\n",
        "print(\"I sought to hear the voice of God,\\n—And climbed the topmost steeple.\\nBut God declared: “Go down again,\\n—I dwell among the people.\\n\\nI sought to hear the voice of God,\\n—And climbed the topmost steeple.\\nBut God declared: “Go down again,\\n—I dwell among the people.\")"
      ],
      "metadata": {
        "colab": {
          "base_uri": "https://localhost:8080/"
        },
        "id": "xnhpynodsvI1",
        "outputId": "6f12f046-e7f6-4203-865f-e02d22f4efd6"
      },
      "execution_count": 9,
      "outputs": [
        {
          "output_type": "stream",
          "name": "stdout",
          "text": [
            "THE VOICE OF GOD\n",
            "I sought to hear the voice of God,\n",
            "—And climbed the topmost steeple.\n",
            "But God declared: “Go down again,\n",
            "—I dwell among the people.\n",
            "\n",
            "I sought to hear the voice of God,\n",
            "—And climbed the topmost steeple.\n",
            "But God declared: “Go down again,\n",
            "—I dwell among the people.\n"
          ]
        }
      ]
    }
  ]
}